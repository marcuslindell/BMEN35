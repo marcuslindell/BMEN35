{
 "cells": [
  {
   "cell_type": "markdown",
   "metadata": {
    "colab_type": "text",
    "id": "view-in-github"
   },
   "source": [
    "<a href=\"https://colab.research.google.com/github/antfolk/BMEN35/blob/main/Session5/BMEN35_Ex14_deep_neural_networks_part_2.ipynb\" target=\"_parent\"><img src=\"https://colab.research.google.com/assets/colab-badge.svg\" alt=\"Open In Colab\"/></a>"
   ]
  },
  {
   "cell_type": "markdown",
   "metadata": {
    "id": "-SZj5dXAsym6"
   },
   "source": [
    "# Deep Neural Networks part 2\n",
    " \n",
    "In this notebook  we will use the models we generated and saved in the previous part and see how they can be used. Let's start with importing our usual suspects and few new ones."
   ]
  },
  {
   "cell_type": "code",
   "execution_count": 1,
   "metadata": {
    "id": "QDSm7FrGsv_u"
   },
   "outputs": [],
   "source": [
    "# The usual imports\n",
    "from numpy import mean\n",
    "from numpy import std\n",
    "from numpy import argmax\n",
    "from matplotlib import pyplot as plt\n",
    "from sklearn.model_selection import KFold\n",
    "from tensorflow.keras.datasets import mnist\n",
    "from tensorflow.keras.utils import to_categorical\n",
    "from tensorflow.keras.models import Sequential\n",
    "from tensorflow.keras.layers import Conv2D\n",
    "from tensorflow.keras.layers import MaxPooling2D\n",
    "from tensorflow.keras.layers import Dense\n",
    "from tensorflow.keras.layers import BatchNormalization\n",
    "from tensorflow.keras.layers import Flatten\n",
    "from tensorflow.keras.optimizers import SGD\n",
    "from tensorflow.keras.utils import plot_model\n",
    "from tensorflow.keras.models import load_model\n",
    "from tensorflow.keras.preprocessing.image import load_img\n",
    "from tensorflow.keras.preprocessing.image import img_to_array\n",
    "import time\n",
    "import numpy as np\n",
    "# from google.colab import files"
   ]
  },
  {
   "cell_type": "markdown",
   "metadata": {
    "id": "tGaffjr2vavs"
   },
   "source": [
    "First we will upload our model files. Choose all the files that you saved and downloaded from the previuos notebook"
   ]
  },
  {
   "cell_type": "code",
   "execution_count": null,
   "metadata": {
    "id": "yafK1sAtvlh_"
   },
   "outputs": [],
   "source": [
    "# _ = files.upload() # Select all the model files (*.h5)\n"
   ]
  },
  {
   "cell_type": "markdown",
   "metadata": {
    "id": "b3W84BOh3-dU"
   },
   "source": [
    "We will load our dataset again, cast and scale the data."
   ]
  },
  {
   "cell_type": "code",
   "execution_count": 2,
   "metadata": {
    "id": "dBHVZUODwTIO"
   },
   "outputs": [],
   "source": [
    "# load dataset\n",
    "(X_train, y_train), (X_test, y_test) = mnist.load_data()\n",
    "# We will use one hot encoding for the target/classes values\n",
    "y_train = to_categorical(y_train)\n",
    "y_test = to_categorical(y_test)\n",
    "# Cast to float\n",
    "X_train = X_train.astype('float32')\n",
    "X_test = X_test.astype('float32')\n",
    "# Normalize to range 0-1\n",
    "X_train = X_train / 255.0\n",
    "X_test = X_test / 255.0"
   ]
  },
  {
   "cell_type": "markdown",
   "metadata": {
    "id": "rwJ_0Xxy4Naa"
   },
   "source": [
    "We will use our previously trained models now. We will load our models and see how they perform on the test set."
   ]
  },
  {
   "cell_type": "code",
   "execution_count": 3,
   "metadata": {
    "id": "cnA0O218EjKD"
   },
   "outputs": [
    {
     "name": "stderr",
     "output_type": "stream",
     "text": [
      "2022-11-18 13:07:32.223179: I tensorflow/core/platform/cpu_feature_guard.cc:193] This TensorFlow binary is optimized with oneAPI Deep Neural Network Library (oneDNN) to use the following CPU instructions in performance-critical operations:  SSE4.1 SSE4.2 AVX AVX2 FMA\n",
      "To enable them in other operations, rebuild TensorFlow with the appropriate compiler flags.\n"
     ]
    },
    {
     "name": "stdout",
     "output_type": "stream",
     "text": [
      "Test accuracy for Model A is 0.9633 \n",
      "Test accuracy for Model B is 0.9713 \n",
      "Test accuracy for Model C is 0.9797 \n",
      "Test accuracy for Model D is 0.9603 \n"
     ]
    }
   ],
   "source": [
    "model_a = load_model('model_a.h5')\n",
    "test_results = model_a.evaluate(X_test, y_test, verbose=0)\n",
    "print(\"Test accuracy for Model A is {:.4f} \".format(test_results[1]))\n",
    "model_b = load_model('model_b.h5')\n",
    "test_results = model_b.evaluate(X_test, y_test, verbose=0)\n",
    "print(\"Test accuracy for Model B is {:.4f} \".format(test_results[1]))\n",
    "model_c = load_model('model_c.h5')\n",
    "test_results = model_c.evaluate(X_test, y_test, verbose=0)\n",
    "print(\"Test accuracy for Model C is {:.4f} \".format(test_results[1]))\n",
    "model_d = load_model('model_d.h5')\n",
    "test_results = model_d.evaluate(X_test, y_test, verbose=0)\n",
    "print(\"Test accuracy for Model D is {:.4f} \".format(test_results[1]))"
   ]
  },
  {
   "cell_type": "markdown",
   "metadata": {
    "id": "o2YC_JCcFgde"
   },
   "source": [
    "Next we will check what can be done using the latter models (model_e and model_f). First we need to reshape the input data "
   ]
  },
  {
   "cell_type": "code",
   "execution_count": 4,
   "metadata": {
    "id": "oVN5JG8rwzlR"
   },
   "outputs": [
    {
     "name": "stdout",
     "output_type": "stream",
     "text": [
      "Test accuracy for Model E is 0.9055 \n",
      "Test accuracy for Model F is 0.9357 \n"
     ]
    }
   ],
   "source": [
    "num_pixels = 784\n",
    "X_test_r = X_test.reshape((X_test.shape[0], num_pixels))\n",
    "\n",
    "model_e = load_model('model_e.h5')\n",
    "test_results = model_e.evaluate(X_test_r, y_test, verbose=0)\n",
    "print(\"Test accuracy for Model E is {:.4f} \".format(test_results[1]))\n",
    "model_f = load_model('model_f.h5')\n",
    "test_results = model_f.evaluate(X_test_r, y_test, verbose=0)\n",
    "print(\"Test accuracy for Model F is {:.4f} \".format(test_results[1]))\n"
   ]
  },
  {
   "cell_type": "markdown",
   "metadata": {
    "id": "tQnPGo1p4jD-"
   },
   "source": [
    "Interestingly, the plain vanilla neural network performed quite well.\n",
    "\n",
    "Next we will see how our trained models perform on a sample image. "
   ]
  },
  {
   "cell_type": "code",
   "execution_count": null,
   "metadata": {
    "id": "M7sp6ZK5xtnC"
   },
   "outputs": [],
   "source": [
    "# img = files.upload() # Select sample_image1.png"
   ]
  },
  {
   "cell_type": "code",
   "execution_count": 5,
   "metadata": {
    "id": "ArRcrbqnyDU4"
   },
   "outputs": [
    {
     "name": "stdout",
     "output_type": "stream",
     "text": [
      "(28, 28)\n"
     ]
    },
    {
     "data": {
      "image/png": "[encoded data removed]",
      "text/plain": [
       "<Figure size 640x480 with 1 Axes>"
      ]
     },
     "metadata": {},
     "output_type": "display_data"
    }
   ],
   "source": [
    "img = load_img('sample_image1.png', color_mode = \"grayscale\", target_size=(28, 28))\n",
    "#img = np.asarray(Image.open(filename))\n",
    "# plot the sample\n",
    "print(img.size)\n",
    "fig = plt.figure\n",
    "plt.imshow(img, cmap='gray')\n",
    "plt.show()\n",
    "# convert to array\n",
    "img = img_to_array(img)\n",
    "# reshape into a single sample with 1 channel\n",
    "img = img.reshape(1, 28, 28, 1)\n",
    "# prepare pixel data\n",
    "img = img.astype('float32')\n",
    "img = img / 255.0"
   ]
  },
  {
   "cell_type": "markdown",
   "metadata": {
    "id": "c9a2NnmIyY-O"
   },
   "source": [
    "Now lets use the uploaded image as input to our models, "
   ]
  },
  {
   "cell_type": "code",
   "execution_count": 6,
   "metadata": {
    "id": "q_HlZZPiyeNy"
   },
   "outputs": [
    {
     "name": "stdout",
     "output_type": "stream",
     "text": [
      "1/1 [==============================] - 0s 70ms/step\n",
      "Model A predicts 3 \n",
      "1/1 [==============================] - 0s 61ms/step\n",
      "Model B predicts 8 \n",
      "1/1 [==============================] - 0s 58ms/step\n",
      "Model C predicts 5 \n",
      "1/1 [==============================] - 0s 76ms/step\n",
      "Model D predicts 7 \n",
      "WARNING:tensorflow:5 out of the last 5 calls to <function Model.make_predict_function.<locals>.predict_function at 0x7fe2b2a4d940> triggered tf.function retracing. Tracing is expensive and the excessive number of tracings could be due to (1) creating @tf.function repeatedly in a loop, (2) passing tensors with different shapes, (3) passing Python objects instead of tensors. For (1), please define your @tf.function outside of the loop. For (2), @tf.function has reduce_retracing=True option that can avoid unnecessary retracing. For (3), please refer to https://www.tensorflow.org/guide/function#controlling_retracing and https://www.tensorflow.org/api_docs/python/tf/function for  more details.\n",
      "1/1 [==============================] - 0s 42ms/step\n",
      "Model F predicts 2 \n",
      "WARNING:tensorflow:6 out of the last 6 calls to <function Model.make_predict_function.<locals>.predict_function at 0x7fe28967be50> triggered tf.function retracing. Tracing is expensive and the excessive number of tracings could be due to (1) creating @tf.function repeatedly in a loop, (2) passing tensors with different shapes, (3) passing Python objects instead of tensors. For (1), please define your @tf.function outside of the loop. For (2), @tf.function has reduce_retracing=True option that can avoid unnecessary retracing. For (3), please refer to https://www.tensorflow.org/guide/function#controlling_retracing and https://www.tensorflow.org/api_docs/python/tf/function for  more details.\n",
      "1/1 [==============================] - 0s 36ms/step\n",
      "Model E predicts 3 \n"
     ]
    }
   ],
   "source": [
    "y_hata = model_a.predict(img)\n",
    "print(\"Model A predicts {:d} \".format(argmax(y_hata)))\n",
    "y_hatb = model_b.predict(img)\n",
    "print(\"Model B predicts {:d} \".format(argmax(y_hatb)))\n",
    "y_hatc = model_c.predict(img)\n",
    "print(\"Model C predicts {:d} \".format(argmax(y_hatc)))\n",
    "y_hatd = model_d.predict(img)\n",
    "print(\"Model D predicts {:d} \".format(argmax(y_hatd)))\n",
    "# For the latter models, we will reshape the image\n",
    "img_r = img.reshape(1,784)\n",
    "y_hate = model_e.predict(img_r)\n",
    "print(\"Model F predicts {:d} \".format(argmax(y_hate)))\n",
    "y_hatf = model_f.predict(img_r)\n",
    "print(\"Model E predicts {:d} \".format(argmax(y_hatf)))\n"
   ]
  },
  {
   "cell_type": "markdown",
   "metadata": {
    "id": "7AWvag7GxuK9"
   },
   "source": [
    "Interestingly, all models are not able to classify this image correctly.\n",
    "## The End"
   ]
  }
 ],
 "metadata": {
  "colab": {
   "authorship_tag": "ABX9TyM/zc3qXERlCXMX9yFpgiU5",
   "include_colab_link": true,
   "provenance": []
  },
  "kernelspec": {
   "display_name": "Python 3 (ipykernel)",
   "language": "python",
   "name": "python3"
  },
  "language_info": {
   "codemirror_mode": {
    "name": "ipython",
    "version": 3
   },
   "file_extension": ".py",
   "mimetype": "text/x-python",
   "name": "python",
   "nbconvert_exporter": "python",
   "pygments_lexer": "ipython3",
   "version": "3.9.7"
  }
 },
 "nbformat": 4,
 "nbformat_minor": 1
}
