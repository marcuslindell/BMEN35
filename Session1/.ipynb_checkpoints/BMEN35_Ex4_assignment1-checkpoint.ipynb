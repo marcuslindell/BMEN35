{
 "cells": [
  {
   "cell_type": "markdown",
   "id": "a2fc2841",
   "metadata": {
    "colab_type": "text",
    "id": "view-in-github"
   },
   "source": [
    "<a href=\"https://colab.research.google.com/github/antfolk/BMEN35/blob/main/Session1/BMEN35_Ex4_assignment1.ipynb\" target=\"_parent\"><img src=\"https://colab.research.google.com/assets/colab-badge.svg\" alt=\"Open In Colab\"/></a>"
   ]
  },
  {
   "cell_type": "markdown",
   "id": "557d33a8",
   "metadata": {
    "id": "557d33a8"
   },
   "source": [
    "# Assignment 1\n",
    "\n",
    "\n",
    "## Fill in your name below\n",
    "\n",
    "Alexander Andersson, BME4\n",
    "\n",
    "## Your mission now is the following:\n",
    "\n",
    "\n",
    "1.   Generate x-values (1000 values between 0 and 5)\n",
    "2.   Generate y-values according to some function (y = x, y = e^x, y = x^2 or similar) that is defined through all x-values\n",
    "3. Take 100 random samples from the y array. (tip: np.random.randint(x,y,z) generates z number of integer values between x and y). Compute the mean of these 100 random samples.\n",
    "4. Repeat step 3, 50000 times and store the means in a variable (clt)\n",
    "5. Plot a histogram of the clt variable\n",
    "6. Go back and change the function in step 2 to something else and run the script again.\n",
    "7. What is the plot showing?\n",
    "\n",
    "\n",
    "### When you have finished this assignment , save this notebook, download it and submit it as assignment 1 in Canvas."
   ]
  },
  {
   "cell_type": "code",
   "execution_count": null,
   "id": "d703706d",
   "metadata": {
    "id": "d703706d"
   },
   "outputs": [],
   "source": [
    "import numpy as np\n",
    "\n",
    "# 1\n",
    "x = np.linspace(0, 5, 1000)\n",
    "\n",
    "# 2\n",
    "# y = [i**2 for i in x] # y = x^2\n",
    "# y = [i for i in x] # y = x\n",
    "y = [np.exp(i) for i in x] # y = e^x"
   ]
  },
  {
   "cell_type": "code",
   "execution_count": null,
   "id": "48158a92",
   "metadata": {},
   "outputs": [],
   "source": [
    "# 3 and 4\n",
    "clt = np.zeros(50_000)\n",
    "for i in range(50_000):\n",
    "    samples = np.random.choice(y, size=100) \n",
    "    clt[i] = np.mean(samples)\n"
   ]
  },
  {
   "cell_type": "code",
   "execution_count": null,
   "id": "6825ce82",
   "metadata": {},
   "outputs": [],
   "source": [
    "import matplotlib.pyplot as plt\n",
    "\n",
    "# 5, 6 by changing y in the second cell\n",
    "plt.hist(clt, bins=40)\n",
    "plt.title('Histogram of the mean of 100 randomly sampled values from y, for 50 000 iterations')\n",
    "plt.xlabel('Bins')\n",
    "plt.ylabel('Counts')\n",
    "plt.show()"
   ]
  }
 ],
 "metadata": {
  "colab": {
   "collapsed_sections": [],
   "include_colab_link": true,
   "provenance": []
  },
  "kernelspec": {
   "display_name": "Python 3 (ipykernel)",
   "language": "python",
   "name": "python3"
  },
  "language_info": {
   "codemirror_mode": {
    "name": "ipython",
    "version": 3
   },
   "file_extension": ".py",
   "mimetype": "text/x-python",
   "name": "python",
   "nbconvert_exporter": "python",
   "pygments_lexer": "ipython3",
   "version": "3.9.12"
  }
 },
 "nbformat": 4,
 "nbformat_minor": 5
}
