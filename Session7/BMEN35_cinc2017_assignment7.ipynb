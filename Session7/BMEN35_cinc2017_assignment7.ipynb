{
  "nbformat": 4,
  "nbformat_minor": 0,
  "metadata": {
    "colab": {
      "provenance": [],
      "authorship_tag": "ABX9TyP5Y2+btU6+Jr5dfPBrPw5g",
      "include_colab_link": true
    },
    "kernelspec": {
      "name": "python3",
      "display_name": "Python 3"
    },
    "language_info": {
      "name": "python"
    }
  },
  "cells": [
    {
      "cell_type": "markdown",
      "metadata": {
        "id": "view-in-github",
        "colab_type": "text"
      },
      "source": [
        "<a href=\"https://colab.research.google.com/github/antfolk/BMEN35/blob/main/Session7/BMEN35_cinc2017_assignment7.ipynb\" target=\"_parent\"><img src=\"https://colab.research.google.com/assets/colab-badge.svg\" alt=\"Open In Colab\"/></a>"
      ]
    },
    {
      "cell_type": "markdown",
      "source": [
        "# Assignment 7\n",
        "## Fill in your name below\n",
        "Alexander Andersson, BME4\n",
        "\n",
        "## Your mission is now the following:\n",
        "\n",
        "You will use data from the Computing in Cardiology challenge 2017 (as was explained in the lectures) (https://physionet.org/content/challenge-2017/1.0.0/). **Take your time to read the page**. The training set contains data from more that 8000 recordings. There are four classes / labels in the datasets (Normal, AF (Atrial Fibrillation), Other rhytm, Noisy). The validation contains data from 300 recordings.\n",
        "\n",
        "**You will download a zip-file from the Canvas-page for the assignment**. The zip-file contains six files:\n",
        "\n",
        "*   cinc2017_features_training.csv\n",
        "*   cinc2017_features_validation.csv\n",
        "*   cinc2017_raw_train.csv **(Very large file)**\n",
        "*   cinc2017_raw_validation.csv\n",
        "*   cinc2017_labels_train.csv\n",
        "*   cinc2017_labels_validation.csv \n",
        "*   andreotti_et_al.h5\n",
        "\n",
        "You can choose to make a model based on \"features\" and or a deep learning model based on the \"raw\" data. There is a premade/pretrained model that you can load and look at for inspiration (andreotti_et_al.h5). It is rather large. Perhaps you can get similar scores with a simpler model.\n",
        "\n",
        "You can find more information on the features and the model (andreotti_et_al.h5) in this paper https://www.cinc.org/archives/2017/pdf/360-239.pdf\n",
        "\n",
        "You also need to implement the scoring according to the webpage. The final score is the average f1 score. For this you might want to check out the classification_report and confusion_matrix in sklearn.\n",
        "\n",
        "For this assignment there is more data than in the other. If you choose to go for a deep learning model, be prepared for longer training times.\n",
        "\n",
        "If you look through the other notebooks, you will find how to load csv files and all other things you need for this assignment. \n",
        "\n",
        "You can have a look at the leaderboard on the webpage to see what scores the contestants where able to get.\n",
        "\n",
        "Try atleast three models and see what scores you can get with each model. If you perform some hyperparameter optimization, make sure you don't use the validation set for this. The validation set is for getting the final scores only.\n",
        "\n",
        "You will start by importing some of the usual suspects. You know what to do know."
      ],
      "metadata": {
        "id": "iWv_CZz8PI2G"
      }
    },
    {
      "cell_type": "code",
      "source": [
        "# You know this now."
      ],
      "metadata": {
        "id": "wp9QE5AePILm"
      },
      "execution_count": null,
      "outputs": []
    }
  ]
}