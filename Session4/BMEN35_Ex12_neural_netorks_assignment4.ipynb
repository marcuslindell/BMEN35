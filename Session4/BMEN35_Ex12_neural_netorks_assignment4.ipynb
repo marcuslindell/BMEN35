{
  "nbformat": 4,
  "nbformat_minor": 0,
  "metadata": {
    "colab": {
      "provenance": [],
      "collapsed_sections": [],
      "authorship_tag": "ABX9TyOc3aNDIyp2U1LDNm5GRRQK",
      "include_colab_link": true
    },
    "kernelspec": {
      "name": "python3",
      "display_name": "Python 3"
    },
    "language_info": {
      "name": "python"
    }
  },
  "cells": [
    {
      "cell_type": "markdown",
      "metadata": {
        "id": "view-in-github",
        "colab_type": "text"
      },
      "source": [
        "<a href=\"https://colab.research.google.com/github/antfolk/BMEN35/blob/main/Session4/BMEN35_Ex12_neural_netorks_assignment4.ipynb\" target=\"_parent\"><img src=\"https://colab.research.google.com/assets/colab-badge.svg\" alt=\"Open In Colab\"/></a>"
      ]
    },
    {
      "cell_type": "markdown",
      "source": [
        "# Assignment 4\n",
        "## Fill in your name below\n",
        "Alexander Andersson, BME4\n",
        "\n",
        "## Your mission is now the following:\n",
        "\n",
        "You will use a dataset from OpenML (https://www.openml.org/). If you look at their webpage there are a lot of dataset that you can use. In this assignment you will use the SPECTF dataset from OpemML. (More info on this dataset can be found here: https://www.openml.org/search?type=data&sort=runs&id=337&status=active and here https://archive.ics.uci.edu/ml/datasets/SPECTF+Heart) and the original paper (https://doi.org/10.1016/S0933-3657(01)00082-3 )\n",
        "\n",
        "You should do the following\n",
        "\n",
        "1.   Fetch the dataset from OpenML (data_id is 337)\n",
        "2.   Train a neural network (using sklearns MLPClassifier) with two hidden layers. You can try with diffrent number of neurons in the hidden layers. (https://scikit-learn.org/stable/modules/generated/sklearn.neural_network.MLPClassifier.html)\n",
        "3.   Find the accuracy, f1-score, precision, recall for the classifier\n",
        "4.   Plot the ROC-curve\n",
        "\n",
        "\n",
        "\n",
        "\n",
        "\n",
        "Some tips/hints:\n",
        "*   There is a nice little api from sklearn to fetch dataset from OpenML. (fetch_openml). Easiest way to get the data is to use its id.\n",
        "*   Once you get your data fetched from openML you can use data.data for your data/features and data.target for your targets/classes\n",
        "*   There is some trickery to get the imported data to a numpy array\n",
        "    I would use something like: `x = data.data.to_numpy()`  and` y = data.target.to_numpy()` and furtermore y is an array of string and we want it to be integers so we can change that with `y = y.astype(int)`\n",
        "*   A good number of neurons for the hidden layers are in the double digits.\n",
        "*   sklearn.metrics has built-in functionality to get the \"metrics\" you need (accuracy, f1-score, precision, recall and ROC-curve)\n",
        "\n",
        "\n",
        "\n",
        "We will start you off with some imports and you will fill in the rest.\n",
        "\n",
        "\n",
        "## When you have finished this assignment , save this notebook and submit it as assignment 4"
      ],
      "metadata": {
        "id": "NtwDyGfrmzd2"
      }
    },
    {
      "cell_type": "code",
      "source": [
        "from sklearn.datasets import fetch_openml\n",
        "import matplotlib.pyplot as plt\n",
        "from sklearn.neural_network import MLPClassifier\n",
        "from sklearn.metrics import accuracy_score, f1_score, recall_score, precision_score, RocCurveDisplay"
      ],
      "metadata": {
        "id": "GRj6dZVSrK3b"
      },
      "execution_count": null,
      "outputs": []
    }
  ]
}