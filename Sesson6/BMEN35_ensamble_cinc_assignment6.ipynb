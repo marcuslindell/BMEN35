{
  "nbformat": 4,
  "nbformat_minor": 0,
  "metadata": {
    "colab": {
      "provenance": [],
      "authorship_tag": "ABX9TyO8UM1ZR7tIiAVsYf5/VFO4",
      "include_colab_link": true
    },
    "kernelspec": {
      "name": "python3",
      "display_name": "Python 3"
    },
    "language_info": {
      "name": "python"
    }
  },
  "cells": [
    {
      "cell_type": "markdown",
      "metadata": {
        "id": "view-in-github",
        "colab_type": "text"
      },
      "source": [
        "<a href=\"https://colab.research.google.com/github/antfolk/BMEN35/blob/main/Sesson6/BMEN35_ensamble_cinc_assignment6.ipynb\" target=\"_parent\"><img src=\"https://colab.research.google.com/assets/colab-badge.svg\" alt=\"Open In Colab\"/></a>"
      ]
    },
    {
      "cell_type": "markdown",
      "source": [
        "# Assignment 6\n",
        "## Fill in your name below\n",
        "Alexander Andersson, BME4\n",
        "\n",
        "## Your mission is now the following:\n",
        "\n",
        "You will use data from the Computing in Cardiology challenge 2022 (as was explained in the lectures) (https://moody-challenge.physionet.org/2022/). The training set contains data from 942 patients. \n",
        "\n",
        "We have done some preprocessing of the data so you have features and labels for both **murmur** and **outcome**. The features include age, sex, weight, heigth, pregnancy status and mean, variance and skewness for the phonocardiogram at five different locations.\n",
        "\n",
        "Evaluate different ensamble methods (at least 3) from sklearn (https://scikit-learn.org/stable/modules/ensemble.html and https://scikit-learn.org/stable/modules/classes.html#module-sklearn.ensemble) and see how they perform on the CinC2022 challenge data. Take some time to read the documentation and see what options are available.\n",
        "\n",
        "As you may remember from the lecture there is quite an eloborate scoring scheme, however this is handled by the file cinc2022metric.py and the methods contained therein. \n",
        "\n",
        "**Also remeber you have two sets of labels!!! One set of labels for murmurs (Present, Unknown, Absent) and one for outcomes (Abnormal, Normal).**\n",
        "\n",
        "**Another thing you need to take into account is that the scoring functions need label probabilities of the predicted classes.**\n",
        "\n",
        "You will also need one-hot encoding of \"hard\" values for the training labels and for the test labels.\n",
        "\n",
        "We will start by uploading some files. You need to upload the files cinc2022metrics.py, feats.csv, murmur_labels.csv and outcome_labels.csv"
      ],
      "metadata": {
        "id": "YkiFi80bGKEc"
      }
    },
    {
      "cell_type": "code",
      "source": [
        "from google.colab import files\n",
        "_ = files.upload() # Upload the other files available in github under Session 6"
      ],
      "metadata": {
        "id": "NRiQuM1OHKQR"
      },
      "execution_count": null,
      "outputs": []
    },
    {
      "cell_type": "markdown",
      "source": [
        "Next we will import some of the libraries/modules needed. (You will need to import others later on)."
      ],
      "metadata": {
        "id": "5YbyBrB9MKBW"
      }
    },
    {
      "cell_type": "code",
      "source": [
        "import pandas as pd\n",
        "from matplotlib import pyplot as plt\n",
        "from sklearn.metrics import accuracy_score\n",
        "import cinc2022metrics as cm # Our own little metrics file\n",
        "from tensorflow.keras.utils import to_categorical\n",
        "from sklearn.model_selection import train_test_split"
      ],
      "metadata": {
        "id": "SJx0_S_GMLfV"
      },
      "execution_count": null,
      "outputs": []
    },
    {
      "cell_type": "markdown",
      "source": [
        "Next we will import data and the two different sets of labels and switch to numpy arrays.\n",
        "\n"
      ],
      "metadata": {
        "id": "bgS-HYV4MWn3"
      }
    },
    {
      "cell_type": "code",
      "source": [
        "feats = pd.read_csv('feats.csv', header=None)\n",
        "murmur_labels = pd.read_csv('murmur_labels.csv', header=None)\n",
        "outcome_labels = pd.read_csv('outcome_labels.csv', header=None)\n",
        "\n",
        "feats = feats.to_numpy()\n",
        "murmur_labels = murmur_labels.to_numpy()\n",
        "outcome_labels = outcome_labels.to_numpy()"
      ],
      "metadata": {
        "id": "NXy1fcB8Mah0"
      },
      "execution_count": null,
      "outputs": []
    },
    {
      "cell_type": "markdown",
      "source": [
        "Here we will split the data and also define what the different classes for murmur and outcome are."
      ],
      "metadata": {
        "id": "M6AjJag6bbYG"
      }
    },
    {
      "cell_type": "code",
      "source": [
        "X_train, X_test, y_train_murmur, y_test_murmur, y_train_outcome, y_test_outcome = train_test_split(feats, murmur_labels, outcome_labels, test_size=0.2, random_state=0)\n",
        "murmur_classes = ['Present', 'Unknown', 'Absent']\n",
        "outcome_classes = ['Abnormal', 'Normal']"
      ],
      "metadata": {
        "id": "DYFYliDGNCl0"
      },
      "execution_count": null,
      "outputs": []
    },
    {
      "cell_type": "markdown",
      "source": [
        "Next you can try out some of the available ensemble methods. Remember you need to predict probabilities for both classifiers. "
      ],
      "metadata": {
        "id": "3AaRI3joNGvd"
      }
    },
    {
      "cell_type": "code",
      "source": [
        "# Do some imports (you now how to do this by now)\n",
        "from sklearn.ensemble import ???? # Change questionmarks to something you want to test."
      ],
      "metadata": {
        "id": "FT0zGggANGIW"
      },
      "execution_count": null,
      "outputs": []
    },
    {
      "cell_type": "markdown",
      "source": [
        "Now you should also One-hot encode the **test** (not the predicted ones) labels for both murmur and outcome."
      ],
      "metadata": {
        "id": "7MzLjkQXb0-d"
      }
    },
    {
      "cell_type": "code",
      "source": [
        "murmur_scores, outcome_scores = cm.compute_scores(y_test_murmur_bin,   # One-hot encoded test labels for murmur eg. [1 0 0]\n",
        "                                                  y_pred_murmur_prob,  # One-hot encoded predicted probabilities for murmur eg. [0.1 0.7 0.2]                             \n",
        "                                                  murmur_classes,      # As defined before\n",
        "                                                  y_test_outcome_bin,  # One-hot encoded test labels for outcome eg. [1 0]\n",
        "                                                  y_pred_outcome_prob, # One-hot encoded predicted probabilities for outcome eg. [0.1 0.9]\n",
        "                                                  outcome_classes)     # As defined before\n",
        "\n",
        "                              "
      ],
      "metadata": {
        "id": "E0LHwnQUb0fV"
      },
      "execution_count": null,
      "outputs": []
    },
    {
      "cell_type": "markdown",
      "source": [
        "Now we have calculated a whole bunch of scores for both murmur and outcome. We can print them using the following."
      ],
      "metadata": {
        "id": "T91QCcRgcl9T"
      }
    },
    {
      "cell_type": "code",
      "source": [
        "cm.print_scores(murmur_scores, outcome_scores) "
      ],
      "metadata": {
        "id": "Vq_XJnNot7qH"
      },
      "execution_count": null,
      "outputs": []
    },
    {
      "cell_type": "markdown",
      "source": [
        "Did you manage to comparable scores to those in the leaderboard as shown in the last slide of the lecture? (It should be noted that we don't have the validation data so we are perhaps comparing apples and oranges). Which set of ensemble classifiers worked the best?"
      ],
      "metadata": {
        "id": "gGczxkWWR50z"
      }
    },
    {
      "cell_type": "markdown",
      "source": [
        "## The End"
      ],
      "metadata": {
        "id": "E5zNz7eZeSvC"
      }
    }
  ]
}